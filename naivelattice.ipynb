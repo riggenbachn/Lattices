{
 "cells": [
  {
   "cell_type": "code",
   "execution_count": 4,
   "id": "9bda0814-0201-4d3f-ab10-3f8722da311d",
   "metadata": {},
   "outputs": [
    {
     "name": "stderr",
     "output_type": "stream",
     "text": [
      "\u001b[32m\u001b[1m    Updating\u001b[22m\u001b[39m registry at `~/.julia/registries/General.toml`\n",
      "\u001b[32m\u001b[1m   Resolving\u001b[22m\u001b[39m package versions...\n",
      "\u001b[32m\u001b[1m   Installed\u001b[22m\u001b[39m RandomExtensions ─ v0.4.4\n",
      "\u001b[32m\u001b[1m   Installed\u001b[22m\u001b[39m AbstractAlgebra ── v0.44.11\n",
      "\u001b[32m\u001b[1m    Updating\u001b[22m\u001b[39m `~/.julia/environments/v1.10/Project.toml`\n",
      "  \u001b[90m[c3fe647b] \u001b[39m\u001b[92m+ AbstractAlgebra v0.44.11\u001b[39m\n",
      "\u001b[32m\u001b[1m    Updating\u001b[22m\u001b[39m `~/.julia/environments/v1.10/Manifest.toml`\n",
      "  \u001b[90m[c3fe647b] \u001b[39m\u001b[92m+ AbstractAlgebra v0.44.11\u001b[39m\n",
      "  \u001b[90m[fb686558] \u001b[39m\u001b[92m+ RandomExtensions v0.4.4\u001b[39m\n",
      "  \u001b[90m[2f01184e] \u001b[39m\u001b[92m+ SparseArrays v1.10.0\u001b[39m\n",
      "  \u001b[90m[bea87d4a] \u001b[39m\u001b[92m+ SuiteSparse_jll v7.2.1+1\u001b[39m\n",
      "\u001b[32m\u001b[1mPrecompiling\u001b[22m\u001b[39m project...\n",
      "\u001b[32m  ✓ \u001b[39m\u001b[90mRandomExtensions\u001b[39m\n",
      "\u001b[32m  ✓ \u001b[39mAbstractAlgebra\n",
      "\u001b[32m  ✓ \u001b[39m\u001b[90mAbstractAlgebra → TestExt\u001b[39m\n",
      "  3 dependencies successfully precompiled in 10 seconds. 63 already precompiled.\n"
     ]
    }
   ],
   "source": [
    "using Pkg; Pkg.add(\"AbstractAlgebra\")\n"
   ]
  },
  {
   "cell_type": "code",
   "execution_count": 214,
   "id": "6d8cb262-3bf6-4cfc-af18-689938b2ac9b",
   "metadata": {},
   "outputs": [
    {
     "data": {
      "text/plain": [
       "lattice (generic function with 4 methods)"
      ]
     },
     "execution_count": 214,
     "metadata": {},
     "output_type": "execute_result"
    }
   ],
   "source": [
    "using AbstractAlgebra\n",
    "\n",
    "\n",
    "function lattice(gens::Vector{Vector{Int64}})\n",
    "    dim=length(gens[1])\n",
    "    for gen in gens\n",
    "        @assert length(gen)==dim \"wrong dimensions\"\n",
    "    end\n",
    "    \n",
    "    M=free_module(ZZ,dim)\n",
    "    generators = [M(gen) for gen in gens]\n",
    "    \n",
    "    \n",
    "    \n",
    "\n",
    "    return sub(M,generators)\n",
    "    \n",
    "end\n",
    "#sub(m::FPModule{T}, gens::Vector{<:FPModuleElem{T}}) where T <: RingElement)"
   ]
  },
  {
   "cell_type": "code",
   "execution_count": 215,
   "id": "4d48dca1-b8ed-4183-8022-4cb4e75f1c8c",
   "metadata": {},
   "outputs": [
    {
     "data": {
      "text/plain": [
       "(Submodule over integers with 2 generators and no relations, Hom: submodule over integers with 2 generators and no relations -> M)"
      ]
     },
     "execution_count": 215,
     "metadata": {},
     "output_type": "execute_result"
    }
   ],
   "source": [
    "a1=[2,3]\n",
    "a2=[1,-1]\n",
    "generators=[a1,a2]\n",
    "lattice(generators)"
   ]
  },
  {
   "cell_type": "code",
   "execution_count": 158,
   "id": "1c4cf62d-422b-424b-8d49-2dbb05f23eb5",
   "metadata": {},
   "outputs": [
    {
     "data": {
      "text/plain": [
       "(1, 5, -1, 0)"
      ]
     },
     "execution_count": 158,
     "metadata": {},
     "output_type": "execute_result"
    }
   ],
   "source": [
    "K=free_module(ZZ,4)\n",
    "l=K([2,0,0,0])\n",
    "j=K([0,3,0,0])\n",
    "k = K([1,1,1,0])\n",
    "N1, = sub(K,[l,j,k])\n",
    "l1= K([3,1,1,0])\n",
    "j2= K([2,3,0,0])\n",
    "k2= K([0,0,0,1])\n",
    "N2, =sub(K,[l1,j2,k2])\n",
    "I,  = intersect(N1,N2)\n",
    "#output is submodule of N1\n",
    "#is_compatible(N1,N2)\n",
    "#First compute inclusion to N1 then into K\n",
    "gens(I)\n",
    "K(I([ZZ(1),ZZ(0)]))"
   ]
  },
  {
   "cell_type": "code",
   "execution_count": null,
   "id": "c7376d51-1500-4b86-afa6-e2d59340d066",
   "metadata": {},
   "outputs": [],
   "source": []
  }
 ],
 "metadata": {
  "kernelspec": {
   "display_name": "Julia 1.10.5",
   "language": "julia",
   "name": "julia-1.10"
  },
  "language_info": {
   "file_extension": ".jl",
   "mimetype": "application/julia",
   "name": "julia",
   "version": "1.10.5"
  }
 },
 "nbformat": 4,
 "nbformat_minor": 5
}
